{
 "cells": [
  {
   "cell_type": "code",
   "execution_count": 1,
   "id": "eccc7592-5ceb-4a0f-92d5-561998f86a04",
   "metadata": {},
   "outputs": [],
   "source": [
    "a=10"
   ]
  },
  {
   "cell_type": "code",
   "execution_count": 2,
   "id": "ef433a19-1177-4710-a3c6-2b6eabd70d11",
   "metadata": {},
   "outputs": [],
   "source": [
    "a='c'"
   ]
  },
  {
   "cell_type": "code",
   "execution_count": 3,
   "id": "803cb8e8-cede-451d-ad56-ca10fa84411a",
   "metadata": {},
   "outputs": [
    {
     "data": {
      "text/plain": [
       "'c'"
      ]
     },
     "execution_count": 3,
     "metadata": {},
     "output_type": "execute_result"
    }
   ],
   "source": [
    "a"
   ]
  },
  {
   "cell_type": "code",
   "execution_count": 4,
   "id": "1c97d1f0-dcb3-4439-b058-755a823bef14",
   "metadata": {},
   "outputs": [
    {
     "data": {
      "text/plain": [
       "str"
      ]
     },
     "execution_count": 4,
     "metadata": {},
     "output_type": "execute_result"
    }
   ],
   "source": [
    "type(a)"
   ]
  },
  {
   "cell_type": "code",
   "execution_count": 6,
   "id": "5f2a8930-29de-4661-aa3a-dfa7c8a8c422",
   "metadata": {},
   "outputs": [
    {
     "data": {
      "text/plain": [
       "0"
      ]
     },
     "execution_count": 6,
     "metadata": {},
     "output_type": "execute_result"
    }
   ],
   "source": [
    "int()"
   ]
  },
  {
   "cell_type": "code",
   "execution_count": 7,
   "id": "74ee0c19-10ca-44fb-9842-528ed3fd9146",
   "metadata": {},
   "outputs": [
    {
     "data": {
      "text/plain": [
       "123"
      ]
     },
     "execution_count": 7,
     "metadata": {},
     "output_type": "execute_result"
    }
   ],
   "source": [
    "int('123')"
   ]
  },
  {
   "cell_type": "code",
   "execution_count": 10,
   "id": "3b22fdd6-4307-49bb-9a6d-a6a968c89182",
   "metadata": {},
   "outputs": [
    {
     "data": {
      "text/plain": [
       "2"
      ]
     },
     "execution_count": 10,
     "metadata": {},
     "output_type": "execute_result"
    }
   ],
   "source": [
    "int('2')"
   ]
  },
  {
   "cell_type": "code",
   "execution_count": 11,
   "id": "8f1d3219-e327-475b-ba71-96bb7d0315d7",
   "metadata": {},
   "outputs": [
    {
     "name": "stdout",
     "output_type": "stream",
     "text": [
      "helllo world\n"
     ]
    }
   ],
   "source": [
    "print('helllo world')"
   ]
  },
  {
   "cell_type": "code",
   "execution_count": 12,
   "id": "cbd1b1a2-1459-41e4-bcfd-7b9e94d462aa",
   "metadata": {},
   "outputs": [
    {
     "name": "stdout",
     "output_type": "stream",
     "text": [
      "123\n"
     ]
    }
   ],
   "source": [
    "print(123)"
   ]
  },
  {
   "cell_type": "code",
   "execution_count": 14,
   "id": "f1c9cddf-cdde-4533-82fe-8971782c786d",
   "metadata": {},
   "outputs": [
    {
     "name": "stdout",
     "output_type": "stream",
     "text": [
      "my age is: 23\n"
     ]
    }
   ],
   "source": [
    "age=23\n",
    "print('my age is:' ,age)"
   ]
  },
  {
   "cell_type": "code",
   "execution_count": 16,
   "id": "a9ffc3e6-95c4-425f-9abe-79af250e784b",
   "metadata": {},
   "outputs": [
    {
     "name": "stdout",
     "output_type": "stream",
     "text": [
      "my age is {age}\n"
     ]
    }
   ],
   "source": [
    "print(\"my age is {age}\")"
   ]
  },
  {
   "cell_type": "code",
   "execution_count": 18,
   "id": "e6889327-5c35-4c59-aba1-c945a1be3eac",
   "metadata": {},
   "outputs": [
    {
     "name": "stdout",
     "output_type": "stream",
     "text": [
      "my age is 23\n"
     ]
    }
   ],
   "source": [
    "## f string\n",
    "print(f\"my age is {age}\")"
   ]
  },
  {
   "cell_type": "code",
   "execution_count": 21,
   "id": "5a71d823-79ad-417b-a510-0e17bfe38635",
   "metadata": {},
   "outputs": [
    {
     "name": "stdout",
     "output_type": "stream",
     "text": [
      "my name is krishna and age is 23\n"
     ]
    }
   ],
   "source": [
    "## format\n",
    "name='krishna'\n",
    "age='23'\n",
    "print(\"my name is {} and age is {}\".format(name,age))"
   ]
  },
  {
   "cell_type": "code",
   "execution_count": 24,
   "id": "70d1a6c1-a64d-471c-8c7b-77ced1c5dda1",
   "metadata": {},
   "outputs": [
    {
     "name": "stdout",
     "output_type": "stream",
     "text": [
      "my name is krishna and age is 23\n"
     ]
    }
   ],
   "source": [
    "## placeholder\n",
    "print(\"my name is {firstname} and age is {firstage}\". format(firstname=name,firstage=age))"
   ]
  },
  {
   "cell_type": "code",
   "execution_count": 26,
   "id": "2132bb31-8768-45a9-87c7-cd2cb2c85fa0",
   "metadata": {},
   "outputs": [
    {
     "name": "stdout",
     "output_type": "stream",
     "text": [
      "my name is krishna and age is 23\n"
     ]
    }
   ],
   "source": [
    "print(\"my name is {firstname} and age is {firstage}\".format(firstage=age,firstname=name))"
   ]
  },
  {
   "cell_type": "code",
   "execution_count": 28,
   "id": "b7ea7fd3-0367-4f31-8971-c63480c9df6b",
   "metadata": {},
   "outputs": [
    {
     "name": "stdout",
     "output_type": "stream",
     "text": [
      "my age is 23 and i have completed: my degree of b.sc with the name of vikas\n"
     ]
    }
   ],
   "source": [
    "name='vikas'\n",
    "age='23'\n",
    "degree='b.sc'\n",
    "print(\"my age is {firstage} and i have completed: my degree of {firstdegree} with the name of {firstname}\".format(firstage=age,firstdegree=degree,firstname=name))"
   ]
  },
  {
   "cell_type": "code",
   "execution_count": 31,
   "id": "bbb6eeb6-f236-4069-b5a5-dc79375d884a",
   "metadata": {},
   "outputs": [
    {
     "name": "stdout",
     "output_type": "stream",
     "text": [
      "my age is 23 and i have completed: my degree of b.sc with the name of vikas\n"
     ]
    }
   ],
   "source": [
    "print(\"my age is {} and i have completed: my degree of {} with the name of {}\".format(age,degree,name))"
   ]
  },
  {
   "cell_type": "code",
   "execution_count": 5,
   "id": "22ae241d-bcf5-47e5-827e-19ef6ae703ad",
   "metadata": {},
   "outputs": [
    {
     "name": "stdout",
     "output_type": "stream",
     "text": [
      "my age is 23 and i have completed: my degree of b.sc of with the name of vikas\n"
     ]
    }
   ],
   "source": [
    "name=\"vikas\"\n",
    "age=\"23\"\n",
    "degree=\"b.sc\"\n",
    "print(f\"my age is {age} and i have completed: my degree of {degree} of with the name of {name}\".format(age,degree,name))"
   ]
  },
  {
   "cell_type": "markdown",
   "id": "68596def-1f51-4fa4-899b-4d5ff5c2f32e",
   "metadata": {},
   "source": [
    "# Control Flow\n",
    "## Decision Making Statement\n",
    "      * It is kind of making decision during occurred situation of program execution and action can be taken according to specified conditions.\n",
    "\n",
    "      * Stracture of decision making evalute several expression that provide True or False as a result.\n",
    "    \n",
    "      * It is up to decide which type of action want  to take  and execute the statement based upon True and False.\n",
    "      \n",
    "    \n",
    "**These are several topics of decision making which going to be discussed below:**\n",
    "\n",
    "     1. **if**\n",
    "     2. **if else**\n",
    "     3. **if elif else**\n",
    "     4. **Nested if**\n",
    "     5. **Single Statement Suites**\n",
    "\n"
   ]
  },
  {
   "cell_type": "code",
   "execution_count": 8,
   "id": "b2950148-a771-4e63-a2ff-01daea5e0bbf",
   "metadata": {},
   "outputs": [
    {
     "name": "stdout",
     "output_type": "stream",
     "text": [
      "you are eligible to vote\n"
     ]
    }
   ],
   "source": [
    "##If statement\n",
    "age='18'\n",
    "if age>='18':\n",
    "    print(\"you are eligible to vote\") "
   ]
  },
  {
   "cell_type": "code",
   "execution_count": 14,
   "id": "76012aa0-e530-4ef5-8194-9f59d8c54ff7",
   "metadata": {},
   "outputs": [
    {
     "name": "stdout",
     "output_type": "stream",
     "text": [
      "you are eligible to vote\n"
     ]
    }
   ],
   "source": [
    "age='19'\n",
    "if age>='18':\n",
    "    print(\"you are eligible to vote\")"
   ]
  },
  {
   "cell_type": "code",
   "execution_count": 15,
   "id": "c917898e-49c2-4ef9-9224-cd2e52ac5fb4",
   "metadata": {},
   "outputs": [
    {
     "data": {
      "text/plain": [
       "False"
      ]
     },
     "execution_count": 15,
     "metadata": {},
     "output_type": "execute_result"
    }
   ],
   "source": [
    "18>18"
   ]
  },
  {
   "cell_type": "code",
   "execution_count": 16,
   "id": "5c3710dc-798d-4060-9e01-f0eac5d23d53",
   "metadata": {},
   "outputs": [
    {
     "data": {
      "text/plain": [
       "False"
      ]
     },
     "execution_count": 16,
     "metadata": {},
     "output_type": "execute_result"
    }
   ],
   "source": [
    "17>18"
   ]
  },
  {
   "cell_type": "code",
   "execution_count": 17,
   "id": "9c85bfe8-dc2b-40da-afe9-2ec03033eb8c",
   "metadata": {},
   "outputs": [
    {
     "data": {
      "text/plain": [
       "True"
      ]
     },
     "execution_count": 17,
     "metadata": {},
     "output_type": "execute_result"
    }
   ],
   "source": [
    "17<18"
   ]
  },
  {
   "cell_type": "code",
   "execution_count": 18,
   "id": "f8a9dda3-5be1-4b19-9a3c-b99fb771e24c",
   "metadata": {},
   "outputs": [
    {
     "name": "stdin",
     "output_type": "stream",
     "text": [
      " vikas jangid\n"
     ]
    },
    {
     "data": {
      "text/plain": [
       "'vikas jangid'"
      ]
     },
     "execution_count": 18,
     "metadata": {},
     "output_type": "execute_result"
    }
   ],
   "source": [
    "input()"
   ]
  },
  {
   "cell_type": "code",
   "execution_count": 19,
   "id": "99ae5c22-4a28-4563-aafa-dd009a94b74c",
   "metadata": {},
   "outputs": [
    {
     "name": "stdin",
     "output_type": "stream",
     "text": [
      "Enter the name vikas jangid\n"
     ]
    }
   ],
   "source": [
    "name=input(\"Enter the name\")"
   ]
  },
  {
   "cell_type": "code",
   "execution_count": 20,
   "id": "08f1e5e0-ff76-4385-b85e-1377e63c6316",
   "metadata": {},
   "outputs": [
    {
     "data": {
      "text/plain": [
       "'vikas jangid'"
      ]
     },
     "execution_count": 20,
     "metadata": {},
     "output_type": "execute_result"
    }
   ],
   "source": [
    "name"
   ]
  },
  {
   "cell_type": "code",
   "execution_count": 21,
   "id": "55c5a3fb-a2c8-4a2a-8579-c1f295b9a5e5",
   "metadata": {},
   "outputs": [
    {
     "name": "stdin",
     "output_type": "stream",
     "text": [
      "Enter your age 23\n"
     ]
    }
   ],
   "source": [
    "age=int(input(\"Enter your age\"))"
   ]
  },
  {
   "cell_type": "code",
   "execution_count": 22,
   "id": "6444a8e5-074a-4956-9d13-c7405fdc42ad",
   "metadata": {},
   "outputs": [
    {
     "data": {
      "text/plain": [
       "'23'"
      ]
     },
     "execution_count": 22,
     "metadata": {},
     "output_type": "execute_result"
    }
   ],
   "source": [
    "age"
   ]
  },
  {
   "cell_type": "code",
   "execution_count": null,
   "id": "459c67f7-2baa-4054-be38-9052a2032a40",
   "metadata": {},
   "outputs": [],
   "source": [
    "##Task\n",
    "## Take a input of age\n",
    "## check wheather age>=18 and age<=45\n",
    "## display a message you are young blood"
   ]
  },
  {
   "cell_type": "code",
   "execution_count": 23,
   "id": "5369cbf2-4b28-42bf-badb-57445a17f36e",
   "metadata": {},
   "outputs": [
    {
     "data": {
      "text/plain": [
       "False"
      ]
     },
     "execution_count": 23,
     "metadata": {},
     "output_type": "execute_result"
    }
   ],
   "source": [
    "True and False"
   ]
  },
  {
   "cell_type": "code",
   "execution_count": 24,
   "id": "775fd176-01ab-4d36-a4ca-ede8e1414b34",
   "metadata": {},
   "outputs": [
    {
     "data": {
      "text/plain": [
       "True"
      ]
     },
     "execution_count": 24,
     "metadata": {},
     "output_type": "execute_result"
    }
   ],
   "source": [
    "True or False"
   ]
  },
  {
   "cell_type": "code",
   "execution_count": 25,
   "id": "4340ebb0-59fb-4981-98f7-d58d14758d54",
   "metadata": {},
   "outputs": [
    {
     "data": {
      "text/plain": [
       "True"
      ]
     },
     "execution_count": 25,
     "metadata": {},
     "output_type": "execute_result"
    }
   ],
   "source": [
    "False or True"
   ]
  },
  {
   "cell_type": "code",
   "execution_count": 34,
   "id": "77e454c1-1bcd-4b90-bcda-d24b29558232",
   "metadata": {},
   "outputs": [
    {
     "name": "stdin",
     "output_type": "stream",
     "text": [
      "Enter the age 23\n"
     ]
    },
    {
     "name": "stdout",
     "output_type": "stream",
     "text": [
      "you are young blood\n"
     ]
    }
   ],
   "source": [
    "age=int(input(\"Enter the age\"))\n",
    "if age>=18 and age<=45:\n",
    "    print(\"you are young blood\")"
   ]
  },
  {
   "cell_type": "code",
   "execution_count": null,
   "id": "cb367701-45d2-4245-abad-1be5d7c24032",
   "metadata": {},
   "outputs": [],
   "source": [
    "## if else statement\n",
    "    "
   ]
  },
  {
   "cell_type": "code",
   "execution_count": 36,
   "id": "c64ff21b-08b0-4cd1-9533-efd1f2b00fc6",
   "metadata": {},
   "outputs": [
    {
     "name": "stdin",
     "output_type": "stream",
     "text": [
      "Enter the age 34\n"
     ]
    },
    {
     "name": "stdout",
     "output_type": "stream",
     "text": [
      "you are young blood\n"
     ]
    }
   ],
   "source": [
    "## if else statement\n",
    "age=int(input(\"Enter the age\"))\n",
    "if age>=18 and age<=45:\n",
    "    print(\"you are young blood\")\n",
    "else:\n",
    "    print(\"Thank you your we will let you know\")"
   ]
  },
  {
   "cell_type": "code",
   "execution_count": 37,
   "id": "49b199f8-3a0e-414e-b25c-4b1643ad4513",
   "metadata": {},
   "outputs": [
    {
     "name": "stdin",
     "output_type": "stream",
     "text": [
      "Enter the age 17\n"
     ]
    },
    {
     "name": "stdout",
     "output_type": "stream",
     "text": [
      "Thank you your we will let you know\n"
     ]
    }
   ],
   "source": [
    "## if else statement\n",
    "age=int(input(\"Enter the age\"))\n",
    "if age>=18 and age<=45:\n",
    "    print(\"you are young blood\")\n",
    "else:\n",
    "    print(\"Thank you your we will let you know\")"
   ]
  },
  {
   "cell_type": "code",
   "execution_count": 3,
   "id": "e0185db0-4a04-4d97-843f-7c0c93cf7d68",
   "metadata": {},
   "outputs": [
    {
     "name": "stdin",
     "output_type": "stream",
     "text": [
      "Enter the name Neeraj jangid\n"
     ]
    }
   ],
   "source": [
    "name=input(\"Enter the name\")"
   ]
  },
  {
   "cell_type": "code",
   "execution_count": 4,
   "id": "7d9d53e9-c434-43bf-8427-a3c64e8e2b5b",
   "metadata": {},
   "outputs": [
    {
     "data": {
      "text/plain": [
       "'Neeraj jangid'"
      ]
     },
     "execution_count": 4,
     "metadata": {},
     "output_type": "execute_result"
    }
   ],
   "source": [
    "name"
   ]
  },
  {
   "cell_type": "code",
   "execution_count": null,
   "id": "afb1377a-91ad-42c1-92e4-306050369760",
   "metadata": {},
   "outputs": [],
   "source": [
    "## mall- input the product price\n",
    "## product > 1000 rs 20% off\n",
    "## print the product price after removing the discount\n",
    "## product <=1000 rs 30% off\n",
    "## print the product price after removing the discount\n"
   ]
  },
  {
   "cell_type": "code",
   "execution_count": 7,
   "id": "b76dfd7f-3140-4ce8-a71e-94d5a8b2da84",
   "metadata": {},
   "outputs": [
    {
     "name": "stdin",
     "output_type": "stream",
     "text": [
      "Enter the product_price 5000\n"
     ]
    },
    {
     "name": "stdout",
     "output_type": "stream",
     "text": [
      "The price of the product is 4000.0\n"
     ]
    }
   ],
   "source": [
    "product_price=int(input(\"Enter the product_price\"))\n",
    "if product_price>1000:\n",
    "    print(\"The price of the product is {}\".format(product_price*0.8))\n",
    "else:\n",
    "    print(\"The price of the product is{}\".format(product_price*0.7))\n",
    "    "
   ]
  },
  {
   "cell_type": "code",
   "execution_count": 8,
   "id": "2affe53c-f69b-44c5-a4a5-3f255466fad0",
   "metadata": {},
   "outputs": [
    {
     "name": "stdin",
     "output_type": "stream",
     "text": [
      "Enter the product_price 10\n"
     ]
    },
    {
     "name": "stdout",
     "output_type": "stream",
     "text": [
      "The price of the product is7.0\n"
     ]
    }
   ],
   "source": [
    "product_price=int(input(\"Enter the product_price\"))\n",
    "if product_price>1000:\n",
    "    print(\"The price of the product is {}\".format(product_price*0.8))\n",
    "else:\n",
    "    print(\"The price of the product is{}\".format(product_price*0.7))\n",
    "    "
   ]
  },
  {
   "cell_type": "code",
   "execution_count": null,
   "id": "b62acaa4-7b46-4b82-80a6-8d77883147e5",
   "metadata": {},
   "outputs": [],
   "source": [
    "## mall- input the product price\n",
    "## product > 3000 rs 20% off\n",
    "## print the product price after removing the discount\n",
    "## product >=2000 rs and <=3000 30% off\n",
    "## print the product price after removing the discount\n",
    "## product <=1000 rs and <=2000 40% off\n",
    "## print the product price after removing the discount"
   ]
  },
  {
   "cell_type": "code",
   "execution_count": 17,
   "id": "b8e2023b-a142-41d7-962a-469db6427b0b",
   "metadata": {},
   "outputs": [
    {
     "name": "stdin",
     "output_type": "stream",
     "text": [
      "Enter the product_price 100000\n"
     ]
    },
    {
     "name": "stdout",
     "output_type": "stream",
     "text": [
      "The price of the product is 80000.0\n"
     ]
    }
   ],
   "source": [
    "product_price=int(input(\"Enter the product_price\"))\n",
    "if product_price>3000:\n",
    "    print(\"The price of the product is {}\".format(product_price*0.8))\n",
    "elif product_price>=2000 and product_price<=3000:\n",
    "    print(\"The price of the product is {}\". format(product_price*0.7))\n",
    "else:\n",
    "    print(\"The price of the product is{}\".format(product_price*0.6))\n",
    "    "
   ]
  },
  {
   "cell_type": "code",
   "execution_count": null,
   "id": "6e0e6e04-d80c-406d-8e47-ed0887d0ed7b",
   "metadata": {},
   "outputs": [],
   "source": [
    "## mall- input the product price\n",
    "## product > 3000 rs 20% off\n",
    "## product ==4000 you will get a goa trip\n",
    "## print the product price after removing the discount\n",
    "## product >=2000 rs and <=3000 30% off\n",
    "## print the product price after removing the discount\n",
    "## product ==2999 u will get an additional gift\n",
    "## product 100 rs and <=2000 40% off\n",
    "## print the product price after removing the discount"
   ]
  },
  {
   "cell_type": "code",
   "execution_count": 39,
   "id": "4cd75b0f-913f-4489-92e4-e6d594fd481c",
   "metadata": {},
   "outputs": [
    {
     "name": "stdin",
     "output_type": "stream",
     "text": [
      "Enter the product_price 4000\n"
     ]
    },
    {
     "name": "stdout",
     "output_type": "stream",
     "text": [
      "congratulation you will get a free ticket\n",
      "The price of the product is 3200.0\n"
     ]
    }
   ],
   "source": [
    "product_price=int(input(\"Enter the product_price\"))\n",
    "if product_price>3000:\n",
    "    if product_price==4000:\n",
    "         print(\"congratulation you will get a free ticket\")\n",
    "    print(\"The price of the product is {}\".format(product_price*0.8))\n",
    "elif product_price>=2000 and product_price<=3000:\n",
    "    if product_price==2999:\n",
    "        print(\"congratulation you will get neeraj\")\n",
    "    print(\"The price of the product is {}\". format(product_price*0.7))\n",
    "elif product_price>=100 and product_price<=2000:\n",
    "    print(\"The price of the product is{}\".format(product_price*0.6))\n",
    "else:\n",
    "    print(\"lets drink tea\")\n",
    "    "
   ]
  },
  {
   "cell_type": "code",
   "execution_count": 40,
   "id": "1751d81c-a4b3-4ea8-b6dd-780106a45f1d",
   "metadata": {},
   "outputs": [
    {
     "data": {
      "text/plain": [
       "True"
      ]
     },
     "execution_count": 40,
     "metadata": {},
     "output_type": "execute_result"
    }
   ],
   "source": [
    "## comparission operators\n",
    "True==True"
   ]
  },
  {
   "cell_type": "code",
   "execution_count": 41,
   "id": "f9c7588c-bbc9-48ff-b10f-5fcdc96da583",
   "metadata": {},
   "outputs": [
    {
     "data": {
      "text/plain": [
       "False"
      ]
     },
     "execution_count": 41,
     "metadata": {},
     "output_type": "execute_result"
    }
   ],
   "source": [
    "False==True"
   ]
  },
  {
   "cell_type": "code",
   "execution_count": 42,
   "id": "92b2137e-0a50-48e5-b949-487b0e55aa88",
   "metadata": {},
   "outputs": [
    {
     "data": {
      "text/plain": [
       "False"
      ]
     },
     "execution_count": 42,
     "metadata": {},
     "output_type": "execute_result"
    }
   ],
   "source": [
    "True==False"
   ]
  },
  {
   "cell_type": "code",
   "execution_count": 43,
   "id": "e9379f47-f23b-45e8-8193-247db7e44e9f",
   "metadata": {},
   "outputs": [
    {
     "data": {
      "text/plain": [
       "True"
      ]
     },
     "execution_count": 43,
     "metadata": {},
     "output_type": "execute_result"
    }
   ],
   "source": [
    "False==False"
   ]
  },
  {
   "cell_type": "code",
   "execution_count": 46,
   "id": "e228092e-8953-4db3-92af-d39119a721e3",
   "metadata": {},
   "outputs": [
    {
     "name": "stdin",
     "output_type": "stream",
     "text": [
      "Emter the value 1500\n"
     ]
    },
    {
     "name": "stdout",
     "output_type": "stream",
     "text": [
      "chal be\n"
     ]
    }
   ],
   "source": [
    "## single statement\n",
    "val=int(input(\"Emter the value\"))\n",
    "if(val<=999):print(\"value<=999\")\n",
    "else:\n",
    "    print(\"chal be\")\n"
   ]
  },
  {
   "cell_type": "markdown",
   "id": "d4e10813-750a-4c22-b33c-7a0ac3f4359b",
   "metadata": {},
   "source": [
    "# Loops Statement\n",
    "1. while loop\n",
    "2. for loop \n",
    "3. Nested loop\n",
    "4. Loop control(beak,continue,pass)"
   ]
  },
  {
   "cell_type": "code",
   "execution_count": 3,
   "id": "2c6f13de-9bf7-4b23-bce1-008447fa9859",
   "metadata": {},
   "outputs": [
    {
     "name": "stdout",
     "output_type": "stream",
     "text": [
      "25\n",
      "26\n",
      "27\n",
      "28\n",
      "29\n",
      "30\n",
      "31\n",
      "32\n",
      "33\n",
      "34\n",
      "35\n",
      "36\n",
      "37\n",
      "38\n",
      "39\n",
      "40\n",
      "41\n",
      "42\n",
      "43\n",
      "44\n",
      "45\n",
      "46\n",
      "47\n",
      "48\n",
      "49\n",
      "50\n",
      "51\n",
      "52\n",
      "53\n",
      "54\n",
      "55\n",
      "56\n",
      "57\n",
      "58\n",
      "59\n",
      "60\n",
      "its time for retirement\n"
     ]
    }
   ],
   "source": [
    "## while loop while-else\n",
    "joining_age=25\n",
    "while joining_age<=60:\n",
    "    print(joining_age)\n",
    "    joining_age=joining_age+1\n",
    "else:\n",
    "    print(\"its time for retirement\")"
   ]
  },
  {
   "cell_type": "code",
   "execution_count": 4,
   "id": "d01ea561-9c15-4ce5-8425-cd233a5ae981",
   "metadata": {},
   "outputs": [
    {
     "name": "stdout",
     "output_type": "stream",
     "text": [
      "900\n",
      "800\n",
      "700\n",
      "600\n",
      "500\n",
      "400\n",
      "300\n",
      "200\n",
      "100\n",
      "0\n",
      "paisa bharo Bank walo\n"
     ]
    }
   ],
   "source": [
    "## Atm machine with 1000 rs\n",
    "total_amount=1000\n",
    "while total_amount!=0:\n",
    "    total_amount=total_amount-100\n",
    "    print(total_amount)\n",
    "else:\n",
    "    print(\"paisa bharo Bank walo\")"
   ]
  },
  {
   "cell_type": "markdown",
   "id": "b88b5df9-81e2-4c57-9283-8f2639792e6a",
   "metadata": {},
   "source": [
    "## For Loop"
   ]
  },
  {
   "cell_type": "code",
   "execution_count": 54,
   "id": "56bd3068-a184-46c6-b817-71e530b46178",
   "metadata": {},
   "outputs": [],
   "source": [
    "lst=[\"vikas\",12,3,4,\"apple\",\"banana\"]"
   ]
  },
  {
   "cell_type": "code",
   "execution_count": 6,
   "id": "c778544e-0569-4e33-98ce-104dd8f997fe",
   "metadata": {},
   "outputs": [
    {
     "data": {
      "text/plain": [
       "list"
      ]
     },
     "execution_count": 6,
     "metadata": {},
     "output_type": "execute_result"
    }
   ],
   "source": [
    "type(lst)"
   ]
  },
  {
   "cell_type": "code",
   "execution_count": 8,
   "id": "7f81616b-09ad-43de-b8e4-88a89c1943d1",
   "metadata": {},
   "outputs": [
    {
     "data": {
      "text/plain": [
       "'vikas'"
      ]
     },
     "execution_count": 8,
     "metadata": {},
     "output_type": "execute_result"
    }
   ],
   "source": [
    "lst[0]"
   ]
  },
  {
   "cell_type": "code",
   "execution_count": 9,
   "id": "9d710b05-4144-4a4e-ba8d-ada4c5001a98",
   "metadata": {},
   "outputs": [
    {
     "data": {
      "text/plain": [
       "12"
      ]
     },
     "execution_count": 9,
     "metadata": {},
     "output_type": "execute_result"
    }
   ],
   "source": [
    "lst[1]"
   ]
  },
  {
   "cell_type": "code",
   "execution_count": 11,
   "id": "7c8ba05b-2967-4381-b959-0bca1a618112",
   "metadata": {},
   "outputs": [
    {
     "data": {
      "text/plain": [
       "'banana'"
      ]
     },
     "execution_count": 11,
     "metadata": {},
     "output_type": "execute_result"
    }
   ],
   "source": [
    "lst[5]"
   ]
  },
  {
   "cell_type": "code",
   "execution_count": 12,
   "id": "9f066731-e78e-4d14-8b03-feb7f20d34fb",
   "metadata": {},
   "outputs": [
    {
     "data": {
      "text/plain": [
       "['vikas', 12, 3, 4, 'apple', 'banana']"
      ]
     },
     "execution_count": 12,
     "metadata": {},
     "output_type": "execute_result"
    }
   ],
   "source": [
    "lst"
   ]
  },
  {
   "cell_type": "code",
   "execution_count": 13,
   "id": "853db155-4c79-49f8-85a5-1e036220c6e7",
   "metadata": {},
   "outputs": [
    {
     "name": "stdout",
     "output_type": "stream",
     "text": [
      "vikas\n",
      "12\n",
      "3\n",
      "4\n",
      "apple\n",
      "banana\n"
     ]
    }
   ],
   "source": [
    "for x in lst:\n",
    "    print(x)"
   ]
  },
  {
   "cell_type": "code",
   "execution_count": 14,
   "id": "26ff2880-eb25-4c35-a4fd-fda4e761c4db",
   "metadata": {},
   "outputs": [],
   "source": [
    "fruits_list=[\"mango\",\"cherry\",\"apple\",\"papaya\",\"banana\"]"
   ]
  },
  {
   "cell_type": "code",
   "execution_count": 15,
   "id": "281015e4-dc8b-47e0-8a1a-25dcc3f255c4",
   "metadata": {},
   "outputs": [
    {
     "name": "stdout",
     "output_type": "stream",
     "text": [
      "mango\n",
      "cherry\n",
      "apple\n",
      "papaya\n",
      "banana\n"
     ]
    }
   ],
   "source": [
    "for x in fruits_list:\n",
    "    print(x)"
   ]
  },
  {
   "cell_type": "code",
   "execution_count": 14,
   "id": "ee0f53ab-1a7f-440f-a260-6fe08a408831",
   "metadata": {},
   "outputs": [],
   "source": [
    "fruits_list=[\"mango\",\"cherry\",\"apple\",\"papaya\",\"banana\"]"
   ]
  },
  {
   "cell_type": "code",
   "execution_count": 28,
   "id": "39e104dd-37e9-43d9-8215-cd0ad8685a11",
   "metadata": {},
   "outputs": [
    {
     "name": "stdout",
     "output_type": "stream",
     "text": [
      "mangocherrythe fruit is cherry\n",
      "applepapayabanana"
     ]
    }
   ],
   "source": [
    "for x in fruits_list:\n",
    "    print(x, end ='')\n",
    "    if x == \"cherry\":\n",
    "        print(\"the fruit is cherry\")"
   ]
  },
  {
   "cell_type": "code",
   "execution_count": 24,
   "id": "35d021ef-29d6-4f9d-a163-5c35aaae62f5",
   "metadata": {},
   "outputs": [
    {
     "name": "stdout",
     "output_type": "stream",
     "text": [
      "mango\n",
      "cherry\n",
      "the fruit is cherry\n",
      "apple\n",
      "papaya\n",
      "banana\n"
     ]
    }
   ],
   "source": [
    "for x in fruits_list:\n",
    "    print(x)\n",
    "    if x==\"cherry\":\n",
    "        print(\"the fruit is cherry\")"
   ]
  },
  {
   "cell_type": "code",
   "execution_count": 29,
   "id": "450581ab-bdfd-466c-8db6-4b8b6bf7b94e",
   "metadata": {},
   "outputs": [
    {
     "name": "stdout",
     "output_type": "stream",
     "text": [
      "mango\n",
      "cherry\n",
      "the fruit is cherry\n"
     ]
    }
   ],
   "source": [
    "for x in fruits_list:\n",
    "    print(x)\n",
    "    if x == \"cherry\":\n",
    "        print(\"the fruit is cherry\")\n",
    "        break"
   ]
  },
  {
   "cell_type": "code",
   "execution_count": 30,
   "id": "25bcb586-08ca-4ce3-88b3-45b8cd10ecc2",
   "metadata": {},
   "outputs": [
    {
     "name": "stdout",
     "output_type": "stream",
     "text": [
      "mango\n"
     ]
    }
   ],
   "source": [
    "fruit=[\"mango\"]\n",
    "for x in fruit:\n",
    "    print(x)"
   ]
  },
  {
   "cell_type": "code",
   "execution_count": 31,
   "id": "d293cfd0-8582-44a0-9048-230565cc78df",
   "metadata": {},
   "outputs": [
    {
     "name": "stdout",
     "output_type": "stream",
     "text": [
      "m\n",
      "a\n",
      "n\n",
      "g\n",
      "o\n"
     ]
    }
   ],
   "source": [
    "fruit=\"mango\"\n",
    "for x in fruit:\n",
    "    print(x)"
   ]
  },
  {
   "cell_type": "code",
   "execution_count": 32,
   "id": "edef6033-fdd9-4bcc-ae40-96e0bdbe7fc7",
   "metadata": {},
   "outputs": [
    {
     "data": {
      "text/plain": [
       "'m'"
      ]
     },
     "execution_count": 32,
     "metadata": {},
     "output_type": "execute_result"
    }
   ],
   "source": [
    "fruit[0]"
   ]
  },
  {
   "cell_type": "code",
   "execution_count": 33,
   "id": "5128042e-0182-4362-bf0a-b271d4a4b923",
   "metadata": {},
   "outputs": [
    {
     "data": {
      "text/plain": [
       "'a'"
      ]
     },
     "execution_count": 33,
     "metadata": {},
     "output_type": "execute_result"
    }
   ],
   "source": [
    "fruit[1]"
   ]
  },
  {
   "cell_type": "code",
   "execution_count": 34,
   "id": "ad582af4-21d0-4e51-a15c-cfbe01c5de3e",
   "metadata": {},
   "outputs": [
    {
     "data": {
      "text/plain": [
       "'n'"
      ]
     },
     "execution_count": 34,
     "metadata": {},
     "output_type": "execute_result"
    }
   ],
   "source": [
    "fruit[2]"
   ]
  },
  {
   "cell_type": "code",
   "execution_count": 35,
   "id": "f984ae84-1842-4c26-b5c6-5a4b051e4ede",
   "metadata": {},
   "outputs": [
    {
     "name": "stdout",
     "output_type": "stream",
     "text": [
      "mango"
     ]
    }
   ],
   "source": [
    "fruit=[\"mango\"]\n",
    "for x in fruit:\n",
    "    print(x,end='')"
   ]
  },
  {
   "cell_type": "markdown",
   "id": "e7792450-e403-41ee-a724-c251170c7b9c",
   "metadata": {},
   "source": [
    "# RANGE"
   ]
  },
  {
   "cell_type": "code",
   "execution_count": 48,
   "id": "84bb252a-cc83-4577-84fc-9f8952360442",
   "metadata": {},
   "outputs": [
    {
     "data": {
      "text/plain": [
       "range(1, 16)"
      ]
     },
     "execution_count": 48,
     "metadata": {},
     "output_type": "execute_result"
    }
   ],
   "source": [
    "range(1,16)"
   ]
  },
  {
   "cell_type": "code",
   "execution_count": 46,
   "id": "5f9b274e-375f-4072-bac1-b73c95fa00dd",
   "metadata": {},
   "outputs": [
    {
     "name": "stdout",
     "output_type": "stream",
     "text": [
      "1\n",
      "2\n",
      "3\n",
      "4\n",
      "5\n",
      "6\n",
      "7\n",
      "8\n",
      "9\n",
      "10\n",
      "11\n",
      "12\n",
      "13\n",
      "14\n",
      "15\n"
     ]
    }
   ],
   "source": [
    "for i in range(1,16):\n",
    "    print(i)"
   ]
  },
  {
   "cell_type": "code",
   "execution_count": 49,
   "id": "2457b6e4-128e-4279-9041-f32db018fda7",
   "metadata": {},
   "outputs": [
    {
     "name": "stdout",
     "output_type": "stream",
     "text": [
      "1\n",
      "3\n",
      "5\n",
      "7\n",
      "9\n",
      "11\n",
      "13\n",
      "15\n"
     ]
    }
   ],
   "source": [
    "for i in range(1,16,2):\n",
    "    print(i)"
   ]
  },
  {
   "cell_type": "code",
   "execution_count": 50,
   "id": "ae211aa5-6cf3-4823-a4eb-bd4c79d4da9c",
   "metadata": {},
   "outputs": [
    {
     "name": "stdout",
     "output_type": "stream",
     "text": [
      "1\n",
      "4\n",
      "7\n",
      "10\n",
      "13\n"
     ]
    }
   ],
   "source": [
    "for i in range(1,16,3):\n",
    "    print(i)"
   ]
  },
  {
   "cell_type": "code",
   "execution_count": 51,
   "id": "75d7b798-98ef-40a1-832f-fd2c7548033b",
   "metadata": {},
   "outputs": [
    {
     "name": "stdout",
     "output_type": "stream",
     "text": [
      "1\n",
      "5\n",
      "9\n",
      "13\n"
     ]
    }
   ],
   "source": [
    "for i in range(1,16,4):\n",
    "    print(i)"
   ]
  },
  {
   "cell_type": "code",
   "execution_count": 43,
   "id": "899d1086-887e-4ad8-8a54-9e2270c1722d",
   "metadata": {},
   "outputs": [
    {
     "name": "stdout",
     "output_type": "stream",
     "text": [
      "1\n"
     ]
    }
   ],
   "source": [
    "for i in range(1,6,5):\n",
    "    print(i)"
   ]
  },
  {
   "cell_type": "code",
   "execution_count": 52,
   "id": "2c9d179b-d7ca-49ab-a85c-e3c84adb5d8f",
   "metadata": {},
   "outputs": [
    {
     "name": "stdout",
     "output_type": "stream",
     "text": [
      "1\n",
      "7\n",
      "13\n"
     ]
    }
   ],
   "source": [
    "for i in range(1,16,6):\n",
    "    print(i)"
   ]
  },
  {
   "cell_type": "code",
   "execution_count": 53,
   "id": "8bafaa2a-b827-4319-a314-5047f5970ae9",
   "metadata": {},
   "outputs": [
    {
     "name": "stdout",
     "output_type": "stream",
     "text": [
      "1\n",
      "2\n",
      "3\n",
      "4\n",
      "5\n",
      "6\n",
      "7\n",
      "8\n",
      "9\n",
      "10\n",
      "11\n",
      "12\n",
      "13\n",
      "14\n",
      "15\n"
     ]
    }
   ],
   "source": [
    "for i in range(1,16,1):\n",
    "    print(i)"
   ]
  },
  {
   "cell_type": "markdown",
   "id": "d1e04538-ee89-4a0f-9524-9447d969c0ec",
   "metadata": {},
   "source": [
    "# Nested Loop"
   ]
  },
  {
   "cell_type": "code",
   "execution_count": 2,
   "id": "14250c1e-02c5-49bd-9435-8b0cce733ea9",
   "metadata": {},
   "outputs": [
    {
     "name": "stdout",
     "output_type": "stream",
     "text": [
      "****************************"
     ]
    }
   ],
   "source": [
    "n=7\n",
    "\n",
    "\n",
    "for i in range(0,n):\n",
    "    for j in range(0,i+1):\n",
    "        print(\"*\",end='')"
   ]
  },
  {
   "cell_type": "code",
   "execution_count": 5,
   "id": "40edadd0-1413-4c79-a1a5-73a27366a869",
   "metadata": {},
   "outputs": [
    {
     "name": "stdout",
     "output_type": "stream",
     "text": [
      "*\n",
      "**\n",
      "***\n",
      "****\n",
      "*****\n",
      "******\n",
      "*******\n"
     ]
    }
   ],
   "source": [
    "n=7\n",
    "\n",
    "\n",
    "for i in range(0,n):\n",
    "    for j in range(0,i+1):\n",
    "        print(\"*\",end='')\n",
    "    print(\"\\r\")"
   ]
  },
  {
   "cell_type": "code",
   "execution_count": 6,
   "id": "20c5921d-89ee-4dfc-8452-01ded3afa4b9",
   "metadata": {},
   "outputs": [
    {
     "name": "stdout",
     "output_type": "stream",
     "text": [
      "*\n",
      "\n",
      "**\n",
      "\n",
      "***\n",
      "\n",
      "****\n",
      "\n",
      "*****\n",
      "\n",
      "******\n",
      "\n",
      "*******\n",
      "\n"
     ]
    }
   ],
   "source": [
    "n=7\n",
    "\n",
    "\n",
    "for i in range(0,n):\n",
    "    for j in range(0,i+1):\n",
    "        print(\"*\",end='')\n",
    "    print(\"\\n\")"
   ]
  },
  {
   "cell_type": "code",
   "execution_count": 13,
   "id": "26cdc518-bb4f-4a7a-b4d9-10e0b1810b05",
   "metadata": {},
   "outputs": [
    {
     "name": "stdout",
     "output_type": "stream",
     "text": [
      "***\n",
      "****\n",
      "*****\n",
      "******\n",
      "*******\n",
      "********\n",
      "*********\n"
     ]
    }
   ],
   "source": [
    "n=7\n",
    "\n",
    "\n",
    "for i in range(0,n):\n",
    "    for j in range(0,i+3):\n",
    "        print(\"*\",end='')\n",
    "    print(\"\\r\")"
   ]
  },
  {
   "cell_type": "code",
   "execution_count": 16,
   "id": "90b8e933-7a11-4c70-a9b4-5b5dd4e97353",
   "metadata": {},
   "outputs": [],
   "source": [
    "## Loop controls\n",
    "### Break and continue\n",
    "fruits_list = [\"mango\",\"cheery\",\"apple\",\"papaya\",\"banana\"]"
   ]
  },
  {
   "cell_type": "code",
   "execution_count": 19,
   "id": "bc4221eb-faa4-4444-8e3c-ce3e94304018",
   "metadata": {},
   "outputs": [
    {
     "name": "stdout",
     "output_type": "stream",
     "text": [
      "mango\n",
      "cheery\n",
      "The fruit is apple\n",
      "apple\n",
      "papaya\n",
      "banana\n"
     ]
    }
   ],
   "source": [
    "for i in fruits_list:\n",
    "    if i==\"apple\":\n",
    "        print(\"The fruit is apple\")\n",
    "    print(i)"
   ]
  },
  {
   "cell_type": "code",
   "execution_count": 20,
   "id": "1b748f83-22d4-403f-acae-ed3838cc5484",
   "metadata": {},
   "outputs": [
    {
     "name": "stdout",
     "output_type": "stream",
     "text": [
      "mango\n",
      "cheery\n",
      "The fruit is apple\n"
     ]
    }
   ],
   "source": [
    "for i in fruits_list:\n",
    "    if i==\"apple\":\n",
    "        print(\"The fruit is apple\")\n",
    "        break\n",
    "    print(i)"
   ]
  },
  {
   "cell_type": "code",
   "execution_count": 21,
   "id": "5e7d46ab-9a18-4262-975d-a20eae9664e2",
   "metadata": {},
   "outputs": [
    {
     "name": "stdout",
     "output_type": "stream",
     "text": [
      "mango\n",
      "cheery\n",
      "The fruit is apple\n",
      "apple\n",
      "papaya\n",
      "banana\n"
     ]
    }
   ],
   "source": [
    "for i in fruits_list:\n",
    "    if i==\"apple\":\n",
    "        print(\"The fruit is apple\")\n",
    "        pass\n",
    "    print(i)"
   ]
  },
  {
   "cell_type": "code",
   "execution_count": 22,
   "id": "44630b89-d1ee-4093-b17e-01820aef784e",
   "metadata": {},
   "outputs": [
    {
     "name": "stdout",
     "output_type": "stream",
     "text": [
      "mango\n",
      "cheery\n",
      "The fruit is apple\n",
      "papaya\n",
      "banana\n"
     ]
    }
   ],
   "source": [
    "for i in fruits_list:\n",
    "    if i==\"apple\":\n",
    "        print(\"The fruit is apple\")\n",
    "        continue\n",
    "    print(i)"
   ]
  },
  {
   "cell_type": "code",
   "execution_count": 5,
   "id": "d453586f-7374-4185-9644-a25b9c2fd89d",
   "metadata": {},
   "outputs": [],
   "source": []
  }
 ],
 "metadata": {
  "kernelspec": {
   "display_name": "Python 3 (ipykernel)",
   "language": "python",
   "name": "python3"
  },
  "language_info": {
   "codemirror_mode": {
    "name": "ipython",
    "version": 3
   },
   "file_extension": ".py",
   "mimetype": "text/x-python",
   "name": "python",
   "nbconvert_exporter": "python",
   "pygments_lexer": "ipython3",
   "version": "3.10.8"
  }
 },
 "nbformat": 4,
 "nbformat_minor": 5
}
