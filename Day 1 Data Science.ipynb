{
 "cells": [
  {
   "cell_type": "code",
   "execution_count": 1,
   "id": "b9e22f19-ee67-4dcf-952e-0977afd3a17e",
   "metadata": {},
   "outputs": [
    {
     "name": "stdout",
     "output_type": "stream",
     "text": [
      "hellow world\n"
     ]
    }
   ],
   "source": [
    "print(\"hellow world\")"
   ]
  },
  {
   "cell_type": "code",
   "execution_count": 2,
   "id": "0d7616e1-7139-418f-8512-4dc783a577e6",
   "metadata": {},
   "outputs": [],
   "source": [
    "a=10"
   ]
  },
  {
   "cell_type": "code",
   "execution_count": 3,
   "id": "b9f77c75-88f8-4880-bea3-90e49221af23",
   "metadata": {},
   "outputs": [
    {
     "data": {
      "text/plain": [
       "10"
      ]
     },
     "execution_count": 3,
     "metadata": {},
     "output_type": "execute_result"
    }
   ],
   "source": [
    "a"
   ]
  },
  {
   "cell_type": "markdown",
   "id": "e108473b-bcbf-4a3d-a4d6-f1bf5bb2036c",
   "metadata": {},
   "source": [
    "## This is the intro session\n",
    "\n",
    "### welcome pw data science master batch"
   ]
  },
  {
   "cell_type": "markdown",
   "id": "99eb9ec1-54b4-426e-9d03-6d4c623c242d",
   "metadata": {},
   "source": [
    "### neeraj jangid"
   ]
  },
  {
   "cell_type": "markdown",
   "id": "abad09c6-fa51-4385-b974-67d88ec6ea66",
   "metadata": {},
   "source": [
    "# pw skills lab"
   ]
  },
  {
   "cell_type": "markdown",
   "id": "92f0bc2a-20f4-4636-9d5c-4d2cd92c612f",
   "metadata": {},
   "source": [
    "## Vikas jangid"
   ]
  },
  {
   "cell_type": "code",
   "execution_count": 5,
   "id": "50c7d3ff-7eac-4815-9d30-1bfb22ddfec6",
   "metadata": {},
   "outputs": [
    {
     "data": {
      "text/plain": [
       "4"
      ]
     },
     "execution_count": 5,
     "metadata": {},
     "output_type": "execute_result"
    }
   ],
   "source": [
    "2+2"
   ]
  },
  {
   "cell_type": "code",
   "execution_count": 6,
   "id": "e444bfa1-d66b-49b8-b5de-8f5ec53b0bfc",
   "metadata": {},
   "outputs": [
    {
     "name": "stdout",
     "output_type": "stream",
     "text": [
      "4\n"
     ]
    }
   ],
   "source": [
    "print(2+2)"
   ]
  },
  {
   "cell_type": "code",
   "execution_count": 7,
   "id": "39fca934-9da2-488f-bff3-c24b72850897",
   "metadata": {},
   "outputs": [
    {
     "name": "stdout",
     "output_type": "stream",
     "text": [
      "2+2\n"
     ]
    }
   ],
   "source": [
    "print(\"2+2\")"
   ]
  },
  {
   "cell_type": "code",
   "execution_count": 8,
   "id": "cca6a1c0-ab78-4e93-bb5b-5b827da37b7b",
   "metadata": {},
   "outputs": [
    {
     "data": {
      "text/plain": [
       "10"
      ]
     },
     "execution_count": 8,
     "metadata": {},
     "output_type": "execute_result"
    }
   ],
   "source": [
    "## this is a fumction\n",
    "a=10\n",
    "a"
   ]
  },
  {
   "cell_type": "code",
   "execution_count": 9,
   "id": "be2e905e-a4a0-4fbd-aa28-182551108413",
   "metadata": {},
   "outputs": [
    {
     "data": {
      "text/plain": [
       "10"
      ]
     },
     "execution_count": 9,
     "metadata": {},
     "output_type": "execute_result"
    }
   ],
   "source": [
    "\"\"\"\n",
    "this is a example of pw skills\n",
    "\"\"\"\n",
    "a=10\n",
    "a"
   ]
  },
  {
   "cell_type": "markdown",
   "id": "1f5b0a6b-da85-47d1-9238-b8f30de5b89c",
   "metadata": {},
   "source": [
    "# hello\n",
    "## hello\n",
    "### hello\n",
    "  1. how are you guys"
   ]
  },
  {
   "cell_type": "markdown",
   "id": "51f03285-5d05-48b6-b1bd-61e67355c798",
   "metadata": {},
   "source": [
    "# TOPIC :- NUMBERS"
   ]
  },
  {
   "cell_type": "code",
   "execution_count": 10,
   "id": "baed0ed1-7bfb-47f3-bb92-6435cc62a429",
   "metadata": {},
   "outputs": [
    {
     "data": {
      "text/plain": [
       "5"
      ]
     },
     "execution_count": 10,
     "metadata": {},
     "output_type": "execute_result"
    }
   ],
   "source": [
    "1+4"
   ]
  },
  {
   "cell_type": "code",
   "execution_count": 12,
   "id": "2db9624f-e4f4-4b87-8a74-b3ab1bceba97",
   "metadata": {},
   "outputs": [
    {
     "name": "stdout",
     "output_type": "stream",
     "text": [
      "5\n"
     ]
    }
   ],
   "source": [
    "print(1+4)"
   ]
  },
  {
   "cell_type": "code",
   "execution_count": 13,
   "id": "da70657f-3706-4220-9483-9d3181b9ac52",
   "metadata": {},
   "outputs": [
    {
     "name": "stdout",
     "output_type": "stream",
     "text": [
      "1+4\n"
     ]
    }
   ],
   "source": [
    "print(\"1+4\")"
   ]
  },
  {
   "cell_type": "code",
   "execution_count": 14,
   "id": "9411dc28-8f10-48d6-96e4-386b074430bc",
   "metadata": {},
   "outputs": [
    {
     "data": {
      "text/plain": [
       "5"
      ]
     },
     "execution_count": 14,
     "metadata": {},
     "output_type": "execute_result"
    }
   ],
   "source": [
    "a=5\n",
    "a"
   ]
  },
  {
   "cell_type": "code",
   "execution_count": 15,
   "id": "16d7436c-811d-437a-9b18-f20c50f286c1",
   "metadata": {},
   "outputs": [
    {
     "name": "stdout",
     "output_type": "stream",
     "text": [
      "5\n"
     ]
    }
   ],
   "source": [
    "a=5\n",
    "print(a)"
   ]
  },
  {
   "cell_type": "code",
   "execution_count": 16,
   "id": "1de08dec-7a43-462c-8f61-f8b772b00490",
   "metadata": {},
   "outputs": [
    {
     "name": "stdout",
     "output_type": "stream",
     "text": [
      "a\n"
     ]
    }
   ],
   "source": [
    "a=5\n",
    "print(\"a\")"
   ]
  },
  {
   "cell_type": "code",
   "execution_count": 1,
   "id": "be33b867-806c-45e1-a598-2ebe7ae07f0c",
   "metadata": {},
   "outputs": [
    {
     "name": "stdout",
     "output_type": "stream",
     "text": [
      "my name is vikas jangid i learn in \n",
      " pw skills\n"
     ]
    }
   ],
   "source": [
    "print(\"my name is vikas jangid i learn in \\n pw skills\")"
   ]
  },
  {
   "cell_type": "code",
   "execution_count": 3,
   "id": "a4f0ff49-28a4-441d-bebe-66f5ffaad0e3",
   "metadata": {},
   "outputs": [
    {
     "name": "stdout",
     "output_type": "stream",
     "text": [
      "my name is vikas i learn in pw skills\n"
     ]
    }
   ],
   "source": [
    "print(\"my name is vikas i learn in pw skills\")"
   ]
  },
  {
   "cell_type": "markdown",
   "id": "100891a6-3d7b-4e14-bb3b-0f5704b22f0b",
   "metadata": {},
   "source": [
    "# VARIABLES ASSIGNMENT"
   ]
  },
  {
   "cell_type": "code",
   "execution_count": 9,
   "id": "8ed82e6b-91cb-43c8-ada2-263827047bbf",
   "metadata": {},
   "outputs": [],
   "source": [
    "name=\"Vikas\"\n",
    "company=\"pw skills amd ineourn\""
   ]
  },
  {
   "cell_type": "code",
   "execution_count": 16,
   "id": "cfca9148-6274-45ab-921f-cfed85bbbb69",
   "metadata": {},
   "outputs": [],
   "source": [
    "name= \"Bala\""
   ]
  },
  {
   "cell_type": "code",
   "execution_count": 17,
   "id": "1f41db38-4dda-45b1-a830-cda007032efe",
   "metadata": {},
   "outputs": [
    {
     "data": {
      "text/plain": [
       "'Bala'"
      ]
     },
     "execution_count": 17,
     "metadata": {},
     "output_type": "execute_result"
    }
   ],
   "source": [
    "name"
   ]
  },
  {
   "cell_type": "code",
   "execution_count": 12,
   "id": "b1caee87-023d-4ccf-9c91-2fefbb964939",
   "metadata": {},
   "outputs": [
    {
     "data": {
      "text/plain": [
       "'Vikas'"
      ]
     },
     "execution_count": 12,
     "metadata": {},
     "output_type": "execute_result"
    }
   ],
   "source": [
    "name"
   ]
  },
  {
   "cell_type": "code",
   "execution_count": 11,
   "id": "c49996f1-9281-428b-9507-91dba19d7d49",
   "metadata": {},
   "outputs": [
    {
     "data": {
      "text/plain": [
       "'pw skills amd ineourn'"
      ]
     },
     "execution_count": 11,
     "metadata": {},
     "output_type": "execute_result"
    }
   ],
   "source": [
    "company"
   ]
  },
  {
   "cell_type": "code",
   "execution_count": 13,
   "id": "47674d84-fc76-407b-8ed2-ca49c596c396",
   "metadata": {},
   "outputs": [],
   "source": [
    "number=10\n"
   ]
  },
  {
   "cell_type": "code",
   "execution_count": 14,
   "id": "18a9ab67-0768-441c-8ccf-7c63b5c6ad6a",
   "metadata": {},
   "outputs": [
    {
     "data": {
      "text/plain": [
       "10"
      ]
     },
     "execution_count": 14,
     "metadata": {},
     "output_type": "execute_result"
    }
   ],
   "source": [
    "number"
   ]
  },
  {
   "cell_type": "code",
   "execution_count": 18,
   "id": "5f97f16a-0b20-480d-905c-a922605afbf5",
   "metadata": {},
   "outputs": [
    {
     "data": {
      "text/plain": [
       "''"
      ]
     },
     "execution_count": 18,
     "metadata": {},
     "output_type": "execute_result"
    }
   ],
   "source": [
    "\"\""
   ]
  },
  {
   "cell_type": "code",
   "execution_count": 19,
   "id": "842f2627-7821-4057-9a19-68704d44d1fb",
   "metadata": {},
   "outputs": [
    {
     "data": {
      "text/plain": [
       "''"
      ]
     },
     "execution_count": 19,
     "metadata": {},
     "output_type": "execute_result"
    }
   ],
   "source": [
    "''"
   ]
  },
  {
   "cell_type": "code",
   "execution_count": 20,
   "id": "4d3f9d07-c43d-4761-bdda-373d3d434578",
   "metadata": {},
   "outputs": [
    {
     "data": {
      "text/plain": [
       "str"
      ]
     },
     "execution_count": 20,
     "metadata": {},
     "output_type": "execute_result"
    }
   ],
   "source": [
    "type(\"\")"
   ]
  },
  {
   "cell_type": "code",
   "execution_count": 21,
   "id": "f23fda63-068f-4db0-8779-ae8df399cb2b",
   "metadata": {},
   "outputs": [
    {
     "data": {
      "text/plain": [
       "str"
      ]
     },
     "execution_count": 21,
     "metadata": {},
     "output_type": "execute_result"
    }
   ],
   "source": [
    "type('')"
   ]
  },
  {
   "cell_type": "code",
   "execution_count": 22,
   "id": "cabbd32c-258d-4dc2-ba60-a6df66ab6cfe",
   "metadata": {},
   "outputs": [
    {
     "data": {
      "text/plain": [
       "str"
      ]
     },
     "execution_count": 22,
     "metadata": {},
     "output_type": "execute_result"
    }
   ],
   "source": [
    "type(name)"
   ]
  },
  {
   "cell_type": "code",
   "execution_count": 23,
   "id": "7304919c-d2ed-4e77-bac3-9573bfb45c14",
   "metadata": {},
   "outputs": [
    {
     "data": {
      "text/plain": [
       "int"
      ]
     },
     "execution_count": 23,
     "metadata": {},
     "output_type": "execute_result"
    }
   ],
   "source": [
    "type(number)"
   ]
  },
  {
   "cell_type": "code",
   "execution_count": 28,
   "id": "903b9ea2-c11f-42c0-8dbe-9b35173e3717",
   "metadata": {},
   "outputs": [],
   "source": [
    "## this is for notes\n",
    "int=\"inger\"\n",
    "str=\"string\""
   ]
  },
  {
   "cell_type": "code",
   "execution_count": 26,
   "id": "4f44e01a-37ed-4736-824d-660ee7c9c189",
   "metadata": {},
   "outputs": [
    {
     "data": {
      "text/plain": [
       "'inger'"
      ]
     },
     "execution_count": 26,
     "metadata": {},
     "output_type": "execute_result"
    }
   ],
   "source": [
    "int"
   ]
  },
  {
   "cell_type": "code",
   "execution_count": 27,
   "id": "a57767e2-b3b4-4867-9523-88f99e3baa41",
   "metadata": {},
   "outputs": [
    {
     "data": {
      "text/plain": [
       "'string'"
      ]
     },
     "execution_count": 27,
     "metadata": {},
     "output_type": "execute_result"
    }
   ],
   "source": [
    "str"
   ]
  },
  {
   "cell_type": "code",
   "execution_count": 33,
   "id": "c4421e56-d253-43ef-84e2-85f96b2169d9",
   "metadata": {},
   "outputs": [],
   "source": [
    "decimal_num=2.5"
   ]
  },
  {
   "cell_type": "code",
   "execution_count": 34,
   "id": "52280887-3847-4ad2-8fee-0c938e50f31b",
   "metadata": {},
   "outputs": [
    {
     "data": {
      "text/plain": [
       "2.5"
      ]
     },
     "execution_count": 34,
     "metadata": {},
     "output_type": "execute_result"
    }
   ],
   "source": [
    "decimal_num"
   ]
  },
  {
   "cell_type": "code",
   "execution_count": 35,
   "id": "fff53cec-214b-4b5b-957d-46727c348542",
   "metadata": {},
   "outputs": [
    {
     "data": {
      "text/plain": [
       "float"
      ]
     },
     "execution_count": 35,
     "metadata": {},
     "output_type": "execute_result"
    }
   ],
   "source": [
    "type(decimal_num)"
   ]
  },
  {
   "cell_type": "code",
   "execution_count": 36,
   "id": "31f7a1bd-0de0-4c78-90e7-ebf6d230356c",
   "metadata": {},
   "outputs": [
    {
     "data": {
      "text/plain": [
       "complex"
      ]
     },
     "execution_count": 36,
     "metadata": {},
     "output_type": "execute_result"
    }
   ],
   "source": [
    "type(1+2j)"
   ]
  },
  {
   "cell_type": "code",
   "execution_count": 37,
   "id": "fb3b06ff-a3b8-48ca-8268-1633fdab2b74",
   "metadata": {},
   "outputs": [
    {
     "name": "stdout",
     "output_type": "stream",
     "text": [
      "hello\n",
      "hello\n"
     ]
    }
   ],
   "source": [
    "print(\"hello\")\n",
    "print('hello')"
   ]
  },
  {
   "cell_type": "code",
   "execution_count": 38,
   "id": "2913d46a-fa27-4b6a-806a-c5467ccd23a9",
   "metadata": {},
   "outputs": [
    {
     "ename": "SyntaxError",
     "evalue": "invalid decimal literal (2031397940.py, line 3)",
     "output_type": "error",
     "traceback": [
      "\u001B[0;36m  Cell \u001B[0;32mIn[38], line 3\u001B[0;36m\u001B[0m\n\u001B[0;31m    1a\u001B[0m\n\u001B[0m    ^\u001B[0m\n\u001B[0;31mSyntaxError\u001B[0m\u001B[0;31m:\u001B[0m invalid decimal literal\n"
     ]
    }
   ],
   "source": [
    "## bad way\n",
    "## don't start the variable name with number\n",
    "1a\n",
    "3answer"
   ]
  },
  {
   "cell_type": "code",
   "execution_count": 39,
   "id": "ccf05904-aade-497f-98ef-c5f2260ebe7d",
   "metadata": {},
   "outputs": [],
   "source": [
    "number1=23"
   ]
  },
  {
   "cell_type": "code",
   "execution_count": 41,
   "id": "e632adca-f67a-45fc-ac9e-f8810187eb9b",
   "metadata": {},
   "outputs": [
    {
     "name": "stdout",
     "output_type": "stream",
     "text": [
      "ineourn\n",
      "PWSKILLS\n"
     ]
    }
   ],
   "source": [
    "## variable are case sensitive\n",
    "company='ineourn'\n",
    "Company='PWSKILLS'\n",
    "print(company)\n",
    "print(Company)"
   ]
  },
  {
   "cell_type": "code",
   "execution_count": 42,
   "id": "fce77fd4-745b-46bb-a36c-4bebc7f8087b",
   "metadata": {},
   "outputs": [
    {
     "data": {
      "text/plain": [
       "'\\nint,float,bool,len,complex,str,return,yield\\n'"
      ]
     },
     "execution_count": 42,
     "metadata": {},
     "output_type": "execute_result"
    }
   ],
   "source": [
    "## Reserved keyword\n",
    "'''\n",
    "int,float,bool,len,complex,str,return,yield\n",
    "'''"
   ]
  },
  {
   "cell_type": "markdown",
   "id": "8266e273-45ac-4b11-bd4c-f3dac82eced1",
   "metadata": {},
   "source": [
    "# Boolean variables "
   ]
  },
  {
   "cell_type": "code",
   "execution_count": 44,
   "id": "f65c1384-3d40-4592-b484-68402974051b",
   "metadata": {},
   "outputs": [
    {
     "data": {
      "text/plain": [
       "True"
      ]
     },
     "execution_count": 44,
     "metadata": {},
     "output_type": "execute_result"
    }
   ],
   "source": [
    "True"
   ]
  },
  {
   "cell_type": "code",
   "execution_count": 45,
   "id": "86ab64fb-cd40-4265-afa6-23fad2b370a0",
   "metadata": {},
   "outputs": [
    {
     "data": {
      "text/plain": [
       "False"
      ]
     },
     "execution_count": 45,
     "metadata": {},
     "output_type": "execute_result"
    }
   ],
   "source": [
    "False"
   ]
  },
  {
   "cell_type": "code",
   "execution_count": 1,
   "id": "c51a1fc4-11f1-4f87-b574-e5797593d005",
   "metadata": {},
   "outputs": [
    {
     "data": {
      "text/plain": [
       "False"
      ]
     },
     "execution_count": 1,
     "metadata": {},
     "output_type": "execute_result"
    }
   ],
   "source": [
    "True and False"
   ]
  },
  {
   "cell_type": "code",
   "execution_count": 2,
   "id": "afec6b76-e09e-486e-bf0f-68b525fc02f7",
   "metadata": {},
   "outputs": [
    {
     "data": {
      "text/plain": [
       "True"
      ]
     },
     "execution_count": 2,
     "metadata": {},
     "output_type": "execute_result"
    }
   ],
   "source": [
    "True or False"
   ]
  },
  {
   "cell_type": "code",
   "execution_count": 3,
   "id": "f87a638a-0537-4a03-a2d5-80b77f37c25c",
   "metadata": {},
   "outputs": [
    {
     "data": {
      "text/plain": [
       "False"
      ]
     },
     "execution_count": 3,
     "metadata": {},
     "output_type": "execute_result"
    }
   ],
   "source": [
    "not True"
   ]
  },
  {
   "cell_type": "code",
   "execution_count": 4,
   "id": "ee3e4c7f-edf0-45f2-8f8e-172038b77d97",
   "metadata": {},
   "outputs": [
    {
     "data": {
      "text/plain": [
       "True"
      ]
     },
     "execution_count": 4,
     "metadata": {},
     "output_type": "execute_result"
    }
   ],
   "source": [
    "not False"
   ]
  },
  {
   "cell_type": "code",
   "execution_count": 5,
   "id": "4c3eb968-c9be-4772-92de-2b19b48a38e9",
   "metadata": {},
   "outputs": [
    {
     "data": {
      "text/plain": [
       "bool"
      ]
     },
     "execution_count": 5,
     "metadata": {},
     "output_type": "execute_result"
    }
   ],
   "source": [
    "type(not True)"
   ]
  },
  {
   "cell_type": "code",
   "execution_count": 6,
   "id": "d78215ca-8df1-4e5b-bbc9-ff022f4a365d",
   "metadata": {},
   "outputs": [
    {
     "data": {
      "text/plain": [
       "False"
      ]
     },
     "execution_count": 6,
     "metadata": {},
     "output_type": "execute_result"
    }
   ],
   "source": [
    "bool(0)"
   ]
  },
  {
   "cell_type": "code",
   "execution_count": 7,
   "id": "01889c60-02db-4e33-896d-1dd1f84c0428",
   "metadata": {},
   "outputs": [
    {
     "data": {
      "text/plain": [
       "True"
      ]
     },
     "execution_count": 7,
     "metadata": {},
     "output_type": "execute_result"
    }
   ],
   "source": [
    "bool(1)"
   ]
  },
  {
   "cell_type": "code",
   "execution_count": 8,
   "id": "1c125ba5-ffd0-417d-99e7-8b9380f2d1b7",
   "metadata": {},
   "outputs": [
    {
     "data": {
      "text/plain": [
       "'23'"
      ]
     },
     "execution_count": 8,
     "metadata": {},
     "output_type": "execute_result"
    }
   ],
   "source": [
    "str(23)"
   ]
  },
  {
   "cell_type": "code",
   "execution_count": 9,
   "id": "311b296b-238b-49ff-916c-4455a64fa4bd",
   "metadata": {},
   "outputs": [
    {
     "data": {
      "text/plain": [
       "23"
      ]
     },
     "execution_count": 9,
     "metadata": {},
     "output_type": "execute_result"
    }
   ],
   "source": [
    "int('23')"
   ]
  },
  {
   "cell_type": "markdown",
   "id": "9d910c09-034d-45f9-a364-b456bb837f03",
   "metadata": {},
   "source": [
    "# dynamic typing"
   ]
  },
  {
   "cell_type": "code",
   "execution_count": 11,
   "id": "972644e7-eae4-43e7-890b-051582f71057",
   "metadata": {},
   "outputs": [],
   "source": [
    "a=12\n",
    "str1='krrish'\n",
    "a='var'"
   ]
  },
  {
   "cell_type": "code",
   "execution_count": 12,
   "id": "eb0053c8-5a86-412c-99d3-167487d0f02e",
   "metadata": {},
   "outputs": [
    {
     "name": "stdout",
     "output_type": "stream",
     "text": [
      "<class 'str'>\n"
     ]
    }
   ],
   "source": [
    "print(type(a))"
   ]
  },
  {
   "cell_type": "code",
   "execution_count": 13,
   "id": "bd518157-b362-4e4f-8e85-b3ca90636028",
   "metadata": {},
   "outputs": [
    {
     "data": {
      "text/plain": [
       "1"
      ]
     },
     "execution_count": 13,
     "metadata": {},
     "output_type": "execute_result"
    }
   ],
   "source": [
    "int(1.56)"
   ]
  },
  {
   "cell_type": "code",
   "execution_count": 14,
   "id": "5291b422-1319-4679-a3ac-e6ca49a087e7",
   "metadata": {},
   "outputs": [
    {
     "data": {
      "text/plain": [
       "5.43"
      ]
     },
     "execution_count": 14,
     "metadata": {},
     "output_type": "execute_result"
    }
   ],
   "source": [
    "float(5.43)"
   ]
  },
  {
   "cell_type": "markdown",
   "id": "04de33c8-39d8-4343-8ce6-e9fd01128529",
   "metadata": {},
   "source": [
    "# Concatenation between differnt types"
   ]
  },
  {
   "cell_type": "code",
   "execution_count": 16,
   "id": "215179e7-834f-451c-b77d-9cf6cfeaebe8",
   "metadata": {},
   "outputs": [
    {
     "data": {
      "text/plain": [
       "2"
      ]
     },
     "execution_count": 16,
     "metadata": {},
     "output_type": "execute_result"
    }
   ],
   "source": [
    "int(\"1\")+int(\"1\")"
   ]
  },
  {
   "cell_type": "code",
   "execution_count": 17,
   "id": "01e59591-7573-48a2-be52-8ea6f9d7f019",
   "metadata": {},
   "outputs": [
    {
     "data": {
      "text/plain": [
       "2"
      ]
     },
     "execution_count": 17,
     "metadata": {},
     "output_type": "execute_result"
    }
   ],
   "source": [
    "int(1)+int(1)"
   ]
  },
  {
   "cell_type": "code",
   "execution_count": 18,
   "id": "da4e53bb-ea53-4761-9c6a-c26de6555c90",
   "metadata": {},
   "outputs": [
    {
     "data": {
      "text/plain": [
       "2"
      ]
     },
     "execution_count": 18,
     "metadata": {},
     "output_type": "execute_result"
    }
   ],
   "source": [
    "int(1)+int(\"1\")"
   ]
  },
  {
   "cell_type": "code",
   "execution_count": 19,
   "id": "e0977d2c-5b12-4899-91d1-a4937ce0fc61",
   "metadata": {},
   "outputs": [
    {
     "data": {
      "text/plain": [
       "'1111111111111111111111111111111111111111111111111111111111111111111111111111111111111111111111111111'"
      ]
     },
     "execution_count": 19,
     "metadata": {},
     "output_type": "execute_result"
    }
   ],
   "source": [
    "'1'*100"
   ]
  },
  {
   "cell_type": "code",
   "execution_count": 20,
   "id": "77542ea1-352a-41c7-9c05-e3bd7ad5d541",
   "metadata": {},
   "outputs": [
    {
     "data": {
      "text/plain": [
       "'55555555555555555555555555555555555555555555555555555555555555555555555555555555555555555555555555555555555555555555555555555555555555555555555555555555555555555555555555555555555555555555555555555555'"
      ]
     },
     "execution_count": 20,
     "metadata": {},
     "output_type": "execute_result"
    }
   ],
   "source": [
    "'5'*200"
   ]
  },
  {
   "cell_type": "code",
   "execution_count": null,
   "id": "3fb3a39b-1dd4-43c6-a819-d0d70d39e79a",
   "metadata": {},
   "outputs": [],
   "source": [
    "print(\"hellow world\")"
   ]
  }
 ],
 "metadata": {
  "kernelspec": {
   "display_name": "Python 3 (ipykernel)",
   "language": "python",
   "name": "python3"
  },
  "language_info": {
   "codemirror_mode": {
    "name": "ipython",
    "version": 3
   },
   "file_extension": ".py",
   "mimetype": "text/x-python",
   "name": "python",
   "nbconvert_exporter": "python",
   "pygments_lexer": "ipython3",
   "version": "3.10.8"
  }
 },
 "nbformat": 4,
 "nbformat_minor": 5
}
